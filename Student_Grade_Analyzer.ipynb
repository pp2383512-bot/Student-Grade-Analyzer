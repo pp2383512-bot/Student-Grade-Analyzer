{
  "nbformat": 4,
  "nbformat_minor": 0,
  "metadata": {
    "colab": {
      "provenance": []
    },
    "kernelspec": {
      "name": "python3",
      "display_name": "Python 3"
    },
    "language_info": {
      "name": "python"
    }
  },
  "cells": [
    {
      "cell_type": "code",
      "execution_count": 1,
      "metadata": {
        "colab": {
          "base_uri": "https://localhost:8080/"
        },
        "id": "yFs-CZ4r0ISl",
        "outputId": "6d5ae10e-1902-451b-bb94-a9685b1e5282"
      },
      "outputs": [
        {
          "output_type": "stream",
          "name": "stdout",
          "text": [
            "=== SAMPLE OF RAW DATA ===\n",
            "        Name  Subject_1  Subject_2  Subject_3  Subject_4  Subject_5  \\\n",
            "0  Student_1         78         91         68         54         82   \n",
            "1  Student_2         97         58         62         50         50   \n",
            "2  Student_3         79         63         42         61         92   \n",
            "3  Student_4         69         77         41         99         60   \n",
            "4  Student_5         61         83         64         88         66   \n",
            "\n",
            "   Subject_6  Subject_7  Subject_8  \n",
            "0         47         60         78  \n",
            "1         63         92         75  \n",
            "2         41         63         83  \n",
            "3         72         51         97  \n",
            "4         98         81         67   \n",
            "\n"
          ]
        }
      ],
      "source": [
        "import pandas as pd\n",
        "import numpy as np\n",
        "\n",
        "num_students = 1000\n",
        "num_subjects = 8\n",
        "\n",
        "np.random.seed(42)\n",
        "\n",
        "# Create student names\n",
        "students = [f\"Student_{i+1}\" for i in range(num_students)]\n",
        "\n",
        "# Create subjects\n",
        "subjects = [f\"Subject_{j+1}\" for j in range(num_subjects)]\n",
        "\n",
        "# Generate random grades (0–100)\n",
        "grades = np.random.randint(40, 100, size=(num_students, num_subjects))\n",
        "\n",
        "# Create DataFrame\n",
        "df = pd.DataFrame(grades, columns=subjects)\n",
        "df.insert(0, \"Name\", students)\n",
        "\n",
        "print(\"=== SAMPLE OF RAW DATA ===\")\n",
        "print(df.head(), \"\\n\")"
      ]
    },
    {
      "cell_type": "code",
      "source": [
        "# Average per student\n",
        "df[\"Average\"] = df[subjects].mean(axis=1).round(2)\n",
        "\n",
        "# Grade classification\n",
        "def grade_class(avg):\n",
        "    if avg >= 90:\n",
        "        return \"A+\"\n",
        "    elif avg >= 80:\n",
        "        return \"A\"\n",
        "    elif avg >= 70:\n",
        "        return \"B\"\n",
        "    elif avg >= 60:\n",
        "        return \"C\"\n",
        "    elif avg >= 50:\n",
        "        return \"D\"\n",
        "    else:\n",
        "        return \"F\"\n",
        "\n",
        "df[\"Grade\"] = df[\"Average\"].apply(grade_class)\n",
        "print(\"=== CLASS STATISTICS ===\")\n",
        "print(\"Total students:\", len(df))\n",
        "print(\"Average score overall:\", df[subjects].values.mean().round(2))\n",
        "print(\"Highest average:\", df['Average'].max())\n",
        "print(\"Lowest average:\", df['Average'].min())\n",
        "print(\"Number of A+ students:\", (df['Grade'] == \"A+\").sum(), \"\\n\")\n",
        "print(\"=== SUBJECT-WISE STATISTICS ===\")\n",
        "subject_summary = df[subjects].describe().round(2)\n",
        "print(subject_summary, \"\\n\")\n"
      ],
      "metadata": {
        "colab": {
          "base_uri": "https://localhost:8080/"
        },
        "id": "ZGwl9bxk0snO",
        "outputId": "294e9180-6d00-493c-8ef5-942a6b15113f"
      },
      "execution_count": 8,
      "outputs": [
        {
          "output_type": "stream",
          "name": "stdout",
          "text": [
            "=== CLASS STATISTICS ===\n",
            "Total students: 1000\n",
            "Average score overall: 69.84\n",
            "Highest average: 88.5\n",
            "Lowest average: 51.62\n",
            "Number of A+ students: 0 \n",
            "\n",
            "=== SUBJECT-WISE STATISTICS ===\n",
            "       Subject_1  Subject_2  Subject_3  Subject_4  Subject_5  Subject_6  \\\n",
            "count    1000.00    1000.00    1000.00    1000.00    1000.00    1000.00   \n",
            "mean       70.72      69.05      69.14      70.19      69.34      69.93   \n",
            "std        17.07      17.30      17.35      17.21      17.27      17.71   \n",
            "min        40.00      40.00      40.00      40.00      40.00      40.00   \n",
            "25%        57.00      54.00      55.00      56.00      54.00      55.00   \n",
            "50%        71.00      68.00      68.00      71.00      69.00      71.00   \n",
            "75%        86.00      85.00      84.00      84.00      84.00      85.00   \n",
            "max        99.00      99.00      99.00      99.00      99.00      99.00   \n",
            "\n",
            "       Subject_7  Subject_8  \n",
            "count    1000.00    1000.00  \n",
            "mean       69.78      70.59  \n",
            "std        17.33      17.24  \n",
            "min        40.00      40.00  \n",
            "25%        55.00      56.00  \n",
            "50%        71.00      71.00  \n",
            "75%        85.00      86.00  \n",
            "max        99.00      99.00   \n",
            "\n"
          ]
        }
      ]
    },
    {
      "cell_type": "code",
      "source": [
        "top_students = df.nlargest(10, \"Average\")[[\"Name\", \"Average\", \"Grade\"]]\n",
        "bottom_students = df.nsmallest(10, \"Average\")[[\"Name\", \"Average\", \"Grade\"]]\n",
        "\n",
        "print(\"=== TOP 10 STUDENTS ===\")\n",
        "print(top_students, \"\\n\")\n",
        "\n",
        "print(\"=== BOTTOM 10 STUDENTS ===\")\n",
        "print(bottom_students, \"\\n\")\n",
        "print(\"=== EXTRA FUN ANALYSIS ===\")\n",
        "\n",
        "# Correlation between subjects\n",
        "corr = df[subjects].corr().round(2)\n",
        "print(\"Subject Correlation Matrix:\")\n",
        "print(corr, \"\\n\")\n",
        "\n",
        "# Which subject has the highest mean?\n",
        "highest_mean_subject = df[subjects].mean().idxmax()\n",
        "print(f\"Subject with highest average score: {highest_mean_subject}\")\n",
        "\n",
        "# Which subject has the most failing grades (<50)\n",
        "fail_counts = (df[subjects] < 50).sum()\n",
        "worst_subject = fail_counts.idxmax()\n",
        "print(f\"Subject with most fails: {worst_subject} ({fail_counts[worst_subject]} fails)\\n\")\n",
        "\n",
        "df.to_csv(\"student_results.csv\", index=False)\n",
        "print(\"Data saved to 'student_results.csv' ✅\")\n",
        "\n",
        "print(\"\\n=== PROGRAM COMPLETE ===\")\n",
        "\n",
        "\n"
      ],
      "metadata": {
        "colab": {
          "base_uri": "https://localhost:8080/"
        },
        "id": "1z0czm3o19_L",
        "outputId": "830c7ffd-565c-4cb2-a8cc-734000b4f932"
      },
      "execution_count": 9,
      "outputs": [
        {
          "output_type": "stream",
          "name": "stdout",
          "text": [
            "=== TOP 10 STUDENTS ===\n",
            "            Name  Average Grade\n",
            "998  Student_999    88.50     A\n",
            "466  Student_467    88.12     A\n",
            "739  Student_740    88.00     A\n",
            "646  Student_647    87.25     A\n",
            "457  Student_458    85.88     A\n",
            "779  Student_780    85.88     A\n",
            "869  Student_870    85.62     A\n",
            "328  Student_329    84.75     A\n",
            "405  Student_406    84.62     A\n",
            "626  Student_627    84.62     A \n",
            "\n",
            "=== BOTTOM 10 STUDENTS ===\n",
            "            Name  Average Grade\n",
            "480  Student_481    51.62     D\n",
            "810  Student_811    52.62     D\n",
            "156  Student_157    53.62     D\n",
            "382  Student_383    54.25     D\n",
            "592  Student_593    54.62     D\n",
            "719  Student_720    54.75     D\n",
            "15    Student_16    54.88     D\n",
            "973  Student_974    55.12     D\n",
            "394  Student_395    55.50     D\n",
            "294  Student_295    56.00     D \n",
            "\n",
            "=== EXTRA FUN ANALYSIS ===\n",
            "Subject Correlation Matrix:\n",
            "           Subject_1  Subject_2  Subject_3  Subject_4  Subject_5  Subject_6  \\\n",
            "Subject_1       1.00      -0.04       0.05      -0.03      -0.02      -0.01   \n",
            "Subject_2      -0.04       1.00       0.03      -0.01       0.01      -0.02   \n",
            "Subject_3       0.05       0.03       1.00       0.03       0.01       0.02   \n",
            "Subject_4      -0.03      -0.01       0.03       1.00      -0.09       0.00   \n",
            "Subject_5      -0.02       0.01       0.01      -0.09       1.00       0.03   \n",
            "Subject_6      -0.01      -0.02       0.02       0.00       0.03       1.00   \n",
            "Subject_7       0.00       0.02       0.04       0.01      -0.03      -0.01   \n",
            "Subject_8       0.02       0.01       0.02       0.04       0.02       0.01   \n",
            "\n",
            "           Subject_7  Subject_8  \n",
            "Subject_1       0.00       0.02  \n",
            "Subject_2       0.02       0.01  \n",
            "Subject_3       0.04       0.02  \n",
            "Subject_4       0.01       0.04  \n",
            "Subject_5      -0.03       0.02  \n",
            "Subject_6      -0.01       0.01  \n",
            "Subject_7       1.00       0.05  \n",
            "Subject_8       0.05       1.00   \n",
            "\n",
            "Subject with highest average score: Subject_1\n",
            "Subject with most fails: Subject_3 (173 fails)\n",
            "\n",
            "Data saved to 'student_results.csv' ✅\n",
            "\n",
            "=== PROGRAM COMPLETE ===\n"
          ]
        }
      ]
    }
  ]
}